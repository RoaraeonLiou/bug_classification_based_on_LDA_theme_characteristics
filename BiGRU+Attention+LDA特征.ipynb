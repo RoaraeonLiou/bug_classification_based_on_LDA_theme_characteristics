{
 "cells": [
  {
   "cell_type": "code",
   "execution_count": 1,
   "metadata": {},
   "outputs": [
    {
     "data": {
      "text/plain": [
       "' 5 有词干化 不<NUM> summary与description分开词汇表\\nall 6108 37885\\nhttpclient 1377 7958\\njackrabbit 3038 17291\\nlucene 3376 18496\\n'"
      ]
     },
     "execution_count": 1,
     "metadata": {},
     "output_type": "execute_result"
    }
   ],
   "source": [
    "import sys\n",
    "import pickle\n",
    "import numpy as np\n",
    "import tensorflow as tf\n",
    "from tensorflow import keras\n",
    "from tensorflow.keras.models import Model\n",
    "from tensorflow.keras.models import Sequential\n",
    "from tensorflow.keras.layers import Flatten, Dense, Embedding, Dropout\n",
    "from tensorflow.keras.layers import SimpleRNN, LSTM, GRU, Bidirectional, concatenate\n",
    "from tensorflow.keras import preprocessing\n",
    "from tensorflow.keras.callbacks import EarlyStopping, ModelCheckpoint, ReduceLROnPlateau, TensorBoard\n",
    "from tensorflow.keras import Input\n",
    "from tensorflow.keras import optimizers\n",
    "from tensorflow.keras.models import load_model\n",
    "import matplotlib.pyplot as plt\n",
    "from attention import AttentionLayer #ok\n",
    "import pprint\n",
    "\n",
    "''' 5 有词干化 不<NUM> summary与description分开词汇表\n",
    "all 6108 37885\n",
    "httpclient 1377 7958\n",
    "jackrabbit 3038 17291\n",
    "lucene 3376 18496\n",
    "'''"
   ]
  },
  {
   "cell_type": "code",
   "execution_count": 2,
   "metadata": {},
   "outputs": [],
   "source": [
    "#参数配置\n",
    "class Config(object):\n",
    "\n",
    "    #数据集路径\n",
    "    project_name = \"output666\\\\lucene\"\n",
    "\n",
    "    #训练参数\n",
    "    num_hidden = 100\n",
    "    num_layer = 3\n",
    "    non_static = True\n",
    "\n",
    "    summary_length = 3386\n",
    "    description_length = 18620\n",
    "    priority_length = 6\n",
    "    theme_length = 2\n",
    "    n_epoch = 10\n",
    "    batch_size = 32\n",
    "    num_classes = 2\n",
    "    dropoutKeepProb = 0.3\n",
    "\n",
    "    #保存路径\n",
    "    log_dir = 'LSTM_log\\\\all'\n",
    "    model_dir = 'BiGRU_att1_model\\\\BiGRU_att_lucene_LDA.h5'\n"
   ]
  },
  {
   "cell_type": "code",
   "execution_count": 3,
   "metadata": {},
   "outputs": [],
   "source": [
    "def split_data(data):\n",
    "    '''将数据中的句向量和标签取出'''\n",
    "    s_data, d_data, p_data, t_data, l_data = [], [], [], [], []\n",
    "    for d in data:\n",
    "        s_data.append(d[1])\n",
    "        d_data.append(d[2])\n",
    "        p_data.append(d[3])\n",
    "        t_data.append(d[4])\n",
    "        l_data.append(d[5])\n",
    "    print(t_data[0])\n",
    "    s_data = np.asarray(s_data, dtype=\"int64\")\n",
    "    d_data = np.asarray(d_data, dtype=\"int64\")\n",
    "    p_data = np.asarray(p_data, dtype=\"int64\")\n",
    "    t_data = np.asarray(t_data, dtype=\"int64\")\n",
    "    l_data = np.asarray(l_data, dtype=\"int64\")\n",
    "    return s_data, d_data, p_data, t_data, l_data"
   ]
  },
  {
   "cell_type": "code",
   "execution_count": 4,
   "metadata": {},
   "outputs": [],
   "source": [
    "def load_data(config):\n",
    "    '''加载训练、验证、测试数据'''\n",
    "    print(\"load data\")\n",
    "    print(\"function : load data\")\n",
    "    print(\"type of batch_size : \", type(config.batch_size))\n",
    "    train_data = pickle.load(open(config.project_name + \"/train_nn.pkl\", \"rb\"))\n",
    "    valid_data = pickle.load(open(config.project_name + \"/valid_nn.pkl\", \"rb\"))\n",
    "    test_data = pickle.load(open(config.project_name + \"/test_nn.pkl\", \"rb\"))\n",
    "    print(\"train data :\", len(train_data))\n",
    "    print(\"valid data :\", len(valid_data))\n",
    "    print(\"test data :\", len(test_data))\n",
    "    return train_data, valid_data, test_data"
   ]
  },
  {
   "cell_type": "code",
   "execution_count": 5,
   "metadata": {},
   "outputs": [],
   "source": [
    "def build_model(config):\n",
    "    # '''构建模型'''\n",
    "    print(\"build the model\")\n",
    "    #论文基本模型 函数式\n",
    "    #summary\n",
    "    input_summary = Input(shape=(50,), dtype='int64', name='summary')\n",
    "    embedded_summary = Embedding(config.summary_length, 32)(input_summary)\n",
    "    encode_summary = Bidirectional(GRU(16, return_sequences=True))(embedded_summary)\n",
    "    att_summary = AttentionLayer()(encode_summary)\n",
    "    #description\n",
    "    input_description = Input(shape=(100,), dtype='int64', name='description')\n",
    "    embedded_description = Embedding(config.description_length, 32)(input_description)\n",
    "    encode_description = Bidirectional(GRU(16, return_sequences=True))(embedded_description)\n",
    "    att_description = AttentionLayer()(encode_description)\n",
    "    #priority\n",
    "    input_priority = Input(shape=(1,), dtype='int64', name='priority')\n",
    "    embedded_priority = Embedding(config.priority_length, 8)(input_priority)\n",
    "    encode_priority = Flatten()(embedded_priority)\n",
    "    #theme\n",
    "    input_theme = Input(shape=(100,), dtype='int64', name='theme')\n",
    "    embedded_theme = Embedding(config.theme_length, 10)(input_theme)\n",
    "    encode_theme = Flatten()(embedded_theme)\n",
    "    #concat\n",
    "    concatenated = concatenate([att_summary, att_description, encode_priority, encode_theme], axis=-1)\n",
    "    den_1 = Dense(64, activation='relu')(concatenated)\n",
    "    drop_1 = Dropout(config.dropoutKeepProb)(den_1)\n",
    "    den_2 = Dense(64, activation='relu')(drop_1)\n",
    "    drop_2 = Dropout(config.dropoutKeepProb)(den_2)\n",
    "    output = Dense(1, activation='sigmoid')(drop_2)\n",
    "    \n",
    "    model = Model([input_summary, input_description, input_priority, input_theme], output)\n",
    "\n",
    "    rmsprop = optimizers.RMSprop(lr=0.001, rho=0.9, epsilon=None, decay=0.0)\n",
    "\n",
    "    model.compile(optimizer=rmsprop,  # adam rmsprop\n",
    "                  loss='binary_crossentropy',  # mse binary_crossentropy\n",
    "                  metrics=['acc']) #metrics=['acc', precision, recall, f1]\n",
    "    model.summary()\n",
    "    return model"
   ]
  },
  {
   "cell_type": "code",
   "execution_count": 6,
   "metadata": {},
   "outputs": [],
   "source": [
    "def train(config):\n",
    "    #定义回调函数\n",
    "    callbacks_list = [\n",
    "        ReduceLROnPlateau(\n",
    "            monitor='val_loss',\n",
    "            factor=0.1,\n",
    "            patience=3\n",
    "        ),\n",
    "        ModelCheckpoint(\n",
    "            filepath=config.model_dir,\n",
    "            monitor='val_loss',\n",
    "            save_best_only=True\n",
    "        ),\n",
    "    ]\n",
    "\n",
    "\n",
    "\n",
    "    history = model.fit([train_summary, train_description, train_priority, train_theme], train_label,\n",
    "                        epochs=config.n_epoch,\n",
    "                        batch_size=config.batch_size,\n",
    "                        callbacks=callbacks_list,\n",
    "                        validation_data=([valid_summary, valid_description, valid_priority, valid_theme], valid_label))\n",
    "    return history"
   ]
  },
  {
   "cell_type": "code",
   "execution_count": 7,
   "metadata": {},
   "outputs": [],
   "source": [
    "def evaluate(config):\n",
    "    \n",
    "    #模型评估\n",
    "    model1 = load_model(config.model_dir, custom_objects={'AttentionLayer': AttentionLayer})\n",
    "    results = model1.evaluate([test_summary, test_description, test_priority, test_theme], test_label)\n",
    "    pprint.pprint(results)\n"
   ]
  },
  {
   "cell_type": "code",
   "execution_count": 8,
   "metadata": {},
   "outputs": [],
   "source": [
    "def draw(history):\n",
    "    #绘制结果\n",
    "    history_dict = history.history\n",
    "    print(history_dict)\n",
    "    train_acc = history_dict['acc']\n",
    "    val_acc = history_dict['val_acc']\n",
    "    train_loss = history_dict['loss']\n",
    "    val_loss = history_dict['val_loss']\n",
    "\n",
    "    epochs = range(1, len(train_acc) + 1)\n",
    "\n",
    "    plt.plot(epochs, train_loss, 'bo', label='Training loss')\n",
    "    plt.plot(epochs, val_loss, 'b', label='Validation loss')\n",
    "    plt.title('Training and validation loss of httpclient')\n",
    "    plt.legend()\n",
    "    plt.show()\n",
    "\n",
    "    plt.plot(epochs, train_acc, 'go', label='Training acc')\n",
    "    plt.plot(epochs, val_acc, 'g', label='Validation acc')\n",
    "    plt.title('Training and validation accuracy of httpclient')\n",
    "    plt.legend()\n",
    "    plt.show()\n"
   ]
  },
  {
   "cell_type": "code",
   "execution_count": 9,
   "metadata": {
    "scrolled": false
   },
   "outputs": [
    {
     "name": "stdout",
     "output_type": "stream",
     "text": [
      "load data\n",
      "function : load data\n",
      "type of batch_size :  <class 'int'>\n",
      "train data : 1978\n",
      "valid data : 220\n",
      "test data : 245\n",
      "[0, 0, 0, 0, 0, 1, 0, 0, 0, 1, 0, 1, 0, 0, 1, 0, 0, 0, 0, 0, 0, 0, 1, 0, 0, 0, 0, 0, 0, 0, 1, 0, 1, 0, 1, 1, 1, 1, 0, 0, 0, 0, 1, 1, 0, 0, 0, 0, 0, 0, 1, 0, 0, 0, 1, 0, 0, 0, 0, 0, 1, 0, 0, 0, 0, 0, 0, 0, 0, 0, 0, 0, 0, 1, 0, 0, 0, 0, 0, 0, 0, 1, 0, 0, 0, 0, 0, 0, 1, 0, 0, 0, 0, 0, 0, 1, 0, 0, 0, 0]\n",
      "[0, 0, 0, 0, 0, 0, 0, 0, 0, 1, 0, 0, 0, 1, 0, 1, 1, 0, 0, 0, 0, 0, 1, 1, 0, 1, 1, 0, 0, 0, 1, 0, 0, 0, 0, 0, 0, 0, 1, 0, 1, 0, 1, 0, 0, 0, 0, 0, 0, 0, 0, 0, 0, 0, 0, 0, 0, 0, 0, 0, 0, 0, 0, 0, 0, 1, 0, 0, 0, 1, 1, 0, 0, 1, 1, 0, 0, 0, 1, 1, 0, 0, 0, 0, 0, 0, 0, 0, 1, 0, 0, 0, 0, 0, 0, 0, 0, 0, 0, 0]\n",
      "[1, 1, 1, 1, 1, 1, 1, 1, 1, 1, 1, 1, 1, 1, 0, 0, 0, 0, 0, 0, 0, 0, 0, 0, 0, 0, 0, 1, 0, 0, 1, 0, 0, 0, 1, 0, 0, 0, 0, 0, 0, 0, 1, 0, 0, 0, 0, 0, 0, 0, 0, 0, 0, 0, 0, 0, 0, 0, 0, 0, 0, 0, 0, 0, 0, 0, 1, 0, 0, 0, 0, 0, 0, 0, 0, 0, 0, 0, 0, 0, 0, 0, 0, 0, 0, 0, 0, 0, 0, 0, 0, 0, 0, 0, 0, 1, 0, 0, 0, 0]\n",
      "220\n",
      "6\n",
      "build the model\n",
      "Model: \"model\"\n",
      "__________________________________________________________________________________________________\n",
      "Layer (type)                    Output Shape         Param #     Connected to                     \n",
      "==================================================================================================\n",
      "summary (InputLayer)            [(None, 50)]         0                                            \n",
      "__________________________________________________________________________________________________\n",
      "description (InputLayer)        [(None, 100)]        0                                            \n",
      "__________________________________________________________________________________________________\n",
      "embedding (Embedding)           (None, 50, 32)       108352      summary[0][0]                    \n",
      "__________________________________________________________________________________________________\n",
      "embedding_1 (Embedding)         (None, 100, 32)      595840      description[0][0]                \n",
      "__________________________________________________________________________________________________\n",
      "priority (InputLayer)           [(None, 1)]          0                                            \n",
      "__________________________________________________________________________________________________\n",
      "theme (InputLayer)              [(None, 100)]        0                                            \n",
      "__________________________________________________________________________________________________\n",
      "bidirectional (Bidirectional)   (None, 50, 32)       4800        embedding[0][0]                  \n",
      "__________________________________________________________________________________________________\n",
      "bidirectional_1 (Bidirectional) (None, 100, 32)      4800        embedding_1[0][0]                \n",
      "__________________________________________________________________________________________________\n",
      "embedding_2 (Embedding)         (None, 1, 8)         48          priority[0][0]                   \n",
      "__________________________________________________________________________________________________\n",
      "embedding_3 (Embedding)         (None, 100, 10)      20          theme[0][0]                      \n",
      "__________________________________________________________________________________________________\n",
      "attention_layer (AttentionLayer (None, 32)           2550        bidirectional[0][0]              \n",
      "__________________________________________________________________________________________________\n",
      "attention_layer_1 (AttentionLay (None, 32)           10100       bidirectional_1[0][0]            \n",
      "__________________________________________________________________________________________________\n",
      "flatten (Flatten)               (None, 8)            0           embedding_2[0][0]                \n",
      "__________________________________________________________________________________________________\n",
      "flatten_1 (Flatten)             (None, 1000)         0           embedding_3[0][0]                \n",
      "__________________________________________________________________________________________________\n",
      "concatenate (Concatenate)       (None, 1072)         0           attention_layer[0][0]            \n",
      "                                                                 attention_layer_1[0][0]          \n",
      "                                                                 flatten[0][0]                    \n",
      "                                                                 flatten_1[0][0]                  \n",
      "__________________________________________________________________________________________________\n",
      "dense (Dense)                   (None, 64)           68672       concatenate[0][0]                \n",
      "__________________________________________________________________________________________________\n",
      "dropout (Dropout)               (None, 64)           0           dense[0][0]                      \n",
      "__________________________________________________________________________________________________\n",
      "dense_1 (Dense)                 (None, 64)           4160        dropout[0][0]                    \n",
      "__________________________________________________________________________________________________\n",
      "dropout_1 (Dropout)             (None, 64)           0           dense_1[0][0]                    \n",
      "__________________________________________________________________________________________________\n",
      "dense_2 (Dense)                 (None, 1)            65          dropout_1[0][0]                  \n",
      "==================================================================================================\n",
      "Total params: 799,407\n",
      "Trainable params: 799,407\n",
      "Non-trainable params: 0\n",
      "__________________________________________________________________________________________________\n",
      "Train on 1978 samples, validate on 220 samples\n",
      "Epoch 1/10\n",
      "1978/1978 [==============================] - 9s 5ms/sample - loss: 0.6087 - acc: 0.7118 - val_loss: 0.5866 - val_acc: 0.7045\n",
      "Epoch 2/10\n",
      "1978/1978 [==============================] - 3s 2ms/sample - loss: 0.5484 - acc: 0.7391 - val_loss: 0.5419 - val_acc: 0.7591\n",
      "Epoch 3/10\n",
      "1978/1978 [==============================] - 3s 2ms/sample - loss: 0.4002 - acc: 0.8246 - val_loss: 0.4564 - val_acc: 0.7909\n",
      "Epoch 4/10\n",
      "1978/1978 [==============================] - 3s 2ms/sample - loss: 0.2530 - acc: 0.8979 - val_loss: 0.3574 - val_acc: 0.8636\n",
      "Epoch 5/10\n",
      "1978/1978 [==============================] - 3s 2ms/sample - loss: 0.1577 - acc: 0.9398 - val_loss: 0.3638 - val_acc: 0.8545\n",
      "Epoch 6/10\n",
      "1978/1978 [==============================] - 3s 2ms/sample - loss: 0.1265 - acc: 0.9611 - val_loss: 0.4077 - val_acc: 0.8636\n",
      "Epoch 7/10\n",
      "1978/1978 [==============================] - 3s 2ms/sample - loss: 0.0836 - acc: 0.9692 - val_loss: 0.4775 - val_acc: 0.8682\n",
      "Epoch 8/10\n",
      "1978/1978 [==============================] - 3s 2ms/sample - loss: 0.0427 - acc: 0.9858 - val_loss: 0.4995 - val_acc: 0.8682\n",
      "Epoch 9/10\n",
      "1978/1978 [==============================] - 3s 2ms/sample - loss: 0.0389 - acc: 0.9889 - val_loss: 0.5203 - val_acc: 0.8636\n",
      "Epoch 10/10\n",
      "1978/1978 [==============================] - 3s 2ms/sample - loss: 0.0334 - acc: 0.9879 - val_loss: 0.5599 - val_acc: 0.8682\n",
      "245/245 [==============================] - 1s 2ms/sample - loss: 0.4405 - acc: 0.8122\n",
      "[0.4404992383353564, 0.8122449]\n",
      "{'loss': [0.6087275749511256, 0.5484193179858105, 0.40023961804874986, 0.2529634137847908, 0.15774984146996623, 0.12653848557865777, 0.08357441916881003, 0.04270181776644969, 0.03890452362386052, 0.033393415355917416], 'acc': [0.71183014, 0.73913044, 0.8245703, 0.8978766, 0.93983823, 0.9610718, 0.9691608, 0.9858443, 0.98887765, 0.9878665], 'val_loss': [0.586614791913466, 0.5419111761179838, 0.45638774958523837, 0.35737125981937756, 0.3637900948524475, 0.40769231211055407, 0.47753856615586715, 0.49948963035236704, 0.5203426252711904, 0.5598926349119706], 'val_acc': [0.70454544, 0.7590909, 0.7909091, 0.8636364, 0.8545455, 0.8636364, 0.8681818, 0.8681818, 0.8636364, 0.8681818], 'lr': [0.001, 0.001, 0.001, 0.001, 0.001, 0.001, 0.001, 0.000100000005, 0.000100000005, 0.000100000005]}\n"
     ]
    },
    {
     "data": {
      "image/png": "[encoded data removed]",
      "text/plain": [
       "<Figure size 432x288 with 1 Axes>"
      ]
     },
     "metadata": {
      "needs_background": "light"
     },
     "output_type": "display_data"
    },
    {
     "data": {
      "image/png": "[encoded data removed]",
      "text/plain": [
       "<Figure size 432x288 with 1 Axes>"
      ]
     },
     "metadata": {
      "needs_background": "light"
     },
     "output_type": "display_data"
    }
   ],
   "source": [
    "if __name__ == \"__main__\":\n",
    "    config = Config()\n",
    "\n",
    "    train_data, valid_data, test_data = load_data(config)\n",
    "\n",
    "\n",
    "    '''分离数据中的句子和标签'''\n",
    "    train_summary, train_description, train_priority, train_theme, train_label = split_data(train_data)\n",
    "    valid_summary, valid_description, valid_priority, valid_theme, valid_label = split_data(valid_data)\n",
    "    test_summary, test_description, test_priority, test_theme, test_label = split_data(test_data)\n",
    "    print(len(valid_theme))\n",
    "    print(len(valid_data[0]))\n",
    "    model = build_model(config)\n",
    "    \n",
    "    history = train(config)\n",
    "    \n",
    "    evaluate(config)\n",
    "    \n",
    "    draw(history)"
   ]
  },
  {
   "cell_type": "code",
   "execution_count": null,
   "metadata": {},
   "outputs": [],
   "source": []
  }
 ],
 "metadata": {
  "kernelspec": {
   "display_name": "Python 3",
   "language": "python",
   "name": "python3"
  },
  "language_info": {
   "codemirror_mode": {
    "name": "ipython",
    "version": 3
   },
   "file_extension": ".py",
   "mimetype": "text/x-python",
   "name": "python",
   "nbconvert_exporter": "python",
   "pygments_lexer": "ipython3",
   "version": "3.7.3"
  }
 },
 "nbformat": 4,
 "nbformat_minor": 2
}

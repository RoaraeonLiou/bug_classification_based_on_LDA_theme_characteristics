{
 "cells": [
  {
   "cell_type": "code",
   "execution_count": 18,
   "metadata": {},
   "outputs": [],
   "source": [
    "import heapq\n",
    "import pickle\n",
    "import numpy as np\n",
    "import pandas as pd"
   ]
  },
  {
   "cell_type": "code",
   "execution_count": 19,
   "metadata": {},
   "outputs": [],
   "source": [
    "def read_theme():\n",
    "    file = open(\"dataset/model-final.theta\", \"r\")\n",
    "    row = file.readlines()\n",
    "    list_text = []\n",
    "    for line in row:\n",
    "        line = list(line.strip().split(' '))\n",
    "        s = []\n",
    "        for i in line:\n",
    "            s.append(float(i))\n",
    "        list_text.append(s)\n",
    "    return list_text"
   ]
  },
  {
   "cell_type": "code",
   "execution_count": 20,
   "metadata": {},
   "outputs": [],
   "source": [
    "def extract(theme_matrix):\n",
    "    att_matrix = list()\n",
    "    for item in theme_matrix:\n",
    "        max_number = heapq.nlargest(20, item) \n",
    "        max_index = []\n",
    "        for t in max_number:\n",
    "            index = item.index(t)\n",
    "            max_index.append(index)\n",
    "            item[index] = 0\n",
    "        temp_list = [0 for i in range(100)]\n",
    "        for index in max_index:\n",
    "            temp_list[index] = 1\n",
    "        att_matrix.append(temp_list)\n",
    "    return att_matrix"
   ]
  },
  {
   "cell_type": "code",
   "execution_count": 21,
   "metadata": {},
   "outputs": [
    {
     "name": "stdout",
     "output_type": "stream",
     "text": [
      "ok\n"
     ]
    }
   ],
   "source": [
    "if __name__ == '__main__':\n",
    "    list_text = read_theme()\n",
    "#     print(len(list_text), len(list_text[0]))\n",
    "#     print(list_text[0])\n",
    "#     print(list_text[50])\n",
    "#     print(list_text[-1])\n",
    "    matrix = extract(list_text)\n",
    "    output_dir = 'output666'\n",
    "    pickle.dump(matrix, open(output_dir + \"/lucene_theme.pkl\", 'wb'))\n",
    "    print(\"ok\")"
   ]
  },
  {
   "cell_type": "code",
   "execution_count": null,
   "metadata": {},
   "outputs": [],
   "source": []
  }
 ],
 "metadata": {
  "kernelspec": {
   "display_name": "Python 3",
   "language": "python",
   "name": "python3"
  },
  "language_info": {
   "codemirror_mode": {
    "name": "ipython",
    "version": 3
   },
   "file_extension": ".py",
   "mimetype": "text/x-python",
   "name": "python",
   "nbconvert_exporter": "python",
   "pygments_lexer": "ipython3",
   "version": "3.7.3"
  }
 },
 "nbformat": 4,
 "nbformat_minor": 2
}

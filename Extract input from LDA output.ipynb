{
 "cells": [
  {
   "cell_type": "code",
   "execution_count": 2,
   "metadata": {},
   "outputs": [],
   "source": [
    "import heapq\n",
    "import pickle\n",
    "import numpy as np\n",
    "import pandas as pd"
   ]
  },
  {
   "cell_type": "code",
   "execution_count": 3,
   "metadata": {},
   "outputs": [],
   "source": [
    "def read_theme(path):\n",
    "    file = open(path, \"r\")\n",
    "    row = file.readlines()\n",
    "    list_text = []\n",
    "    for line in row:\n",
    "        line = list(line.strip().split(' '))\n",
    "        s = []\n",
    "        for i in line:\n",
    "            s.append(float(i))\n",
    "        list_text.append(s)\n",
    "    file.close()\n",
    "    return list_text"
   ]
  },
  {
   "cell_type": "code",
   "execution_count": 4,
   "metadata": {},
   "outputs": [],
   "source": [
    "def extract(theme_matrix):\n",
    "    att_matrix = list()\n",
    "    for item in theme_matrix:\n",
    "        max_number = heapq.nlargest(20, item) \n",
    "        max_index = []\n",
    "        for t in max_number:\n",
    "            index = item.index(t)\n",
    "            max_index.append(index)\n",
    "            item[index] = 0\n",
    "        temp_list = [0 for i in range(100)]\n",
    "        for index in max_index:\n",
    "            temp_list[index] = 1\n",
    "        att_matrix.append(temp_list)\n",
    "    return att_matrix"
   ]
  },
  {
   "cell_type": "code",
   "execution_count": 5,
   "metadata": {},
   "outputs": [],
   "source": [
    "def main(project_name, output_dir):\n",
    "    train_path = '/' + project_name + '_theme.pkl'\n",
    "    test_path = '/' + project_name + '_theme_test.pkl'\n",
    "    train_file_path = output_dir + \"/\" + project_name + \"/\" + project_name + \"-train.dat.theta\"\n",
    "    test_file_path = output_dir + \"/\" + project_name + \"/\" + project_name + \"-test.dat.theta\"\n",
    "    train_list_text = read_theme(train_file_path)\n",
    "    train_matrix = extract(train_list_text)\n",
    "    pickle.dump(train_matrix, open(output_dir + train_path, 'wb'))\n",
    "    print(project_name + \" train theme extract successfully\")\n",
    "    test_list_text = read_theme(test_file_path)\n",
    "    test_matrix = extract(test_list_text)\n",
    "    pickle.dump(test_matrix, open(output_dir + test_path, 'wb'))\n",
    "    print(project_name + \" test theme extract successfully\")"
   ]
  },
  {
   "cell_type": "code",
   "execution_count": 6,
   "metadata": {},
   "outputs": [
    {
     "name": "stdout",
     "output_type": "stream",
     "text": [
      "lucene train theme extract successfully\n",
      "lucene test theme extract successfully\n",
      "httpclient train theme extract successfully\n",
      "httpclient test theme extract successfully\n",
      "jackrabbit train theme extract successfully\n",
      "jackrabbit test theme extract successfully\n"
     ]
    }
   ],
   "source": [
    "if __name__ == '__main__':\n",
    "    main('lucene', 'LDA theme')\n",
    "    main('httpclient', 'LDA theme')\n",
    "    main('jackrabbit', 'LDA theme')\n"
   ]
  },
  {
   "cell_type": "code",
   "execution_count": null,
   "metadata": {},
   "outputs": [],
   "source": []
  }
 ],
 "metadata": {
  "kernelspec": {
   "display_name": "Python 3",
   "language": "python",
   "name": "python3"
  },
  "language_info": {
   "codemirror_mode": {
    "name": "ipython",
    "version": 3
   },
   "file_extension": ".py",
   "mimetype": "text/x-python",
   "name": "python",
   "nbconvert_exporter": "python",
   "pygments_lexer": "ipython3",
   "version": "3.7.3"
  }
 },
 "nbformat": 4,
 "nbformat_minor": 2
}

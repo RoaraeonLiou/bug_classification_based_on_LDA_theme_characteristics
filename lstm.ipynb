{
 "cells": [
  {
   "cell_type": "code",
   "execution_count": 1,
   "metadata": {},
   "outputs": [],
   "source": [
    "import sys\n",
    "import pickle\n",
    "import numpy as np\n",
    "import tensorflow as tf\n",
    "from tensorflow import keras\n",
    "from tensorflow.keras.models import Model\n",
    "from tensorflow.keras.models import Sequential\n",
    "from tensorflow.keras.layers import Flatten, Dense, Embedding, Dropout\n",
    "from tensorflow.keras.layers import SimpleRNN, LSTM, GRU, Bidirectional, concatenate\n",
    "from tensorflow.keras import preprocessing\n",
    "from tensorflow.keras.callbacks import EarlyStopping, ModelCheckpoint, ReduceLROnPlateau, TensorBoard\n",
    "from tensorflow.keras import Input\n",
    "from tensorflow.keras import optimizers\n",
    "from tensorflow.keras.models import load_model\n",
    "import matplotlib.pyplot as plt\n",
    "from attention import AttentionLayer #ok\n",
    "import pprint"
   ]
  },
  {
   "cell_type": "code",
   "execution_count": 2,
   "metadata": {},
   "outputs": [],
   "source": [
    "#参数配置\n",
    "class Config(object):\n",
    "\n",
    "    #数据集路径\n",
    "    project_name = \"output5\\\\lucene\"\n",
    "\n",
    "    #训练参数\n",
    "    num_hidden = 100\n",
    "    num_layer = 3\n",
    "    non_static = True\n",
    "\n",
    "    summary_length = 3386\n",
    "    description_length = 18620\n",
    "    priority_length = 6\n",
    "    n_epoch = 10\n",
    "    batch_size = 32\n",
    "    num_classes = 2\n",
    "    dropoutKeepProb = 0.3\n",
    "\n",
    "    #保存路径\n",
    "    log_dir = 'LSTM_log\\\\all'\n",
    "    model_dir = 'com_LSTM_model\\\\LSTM_lucene.h5'"
   ]
  },
  {
   "cell_type": "code",
   "execution_count": 3,
   "metadata": {},
   "outputs": [],
   "source": [
    "def split_data(data):\n",
    "    '''将数据中的句向量和标签取出'''\n",
    "    s_data, d_data, p_data, l_data = [], [], [], []\n",
    "    for d in data:\n",
    "        s_data.append(d[1])\n",
    "        d_data.append(d[2])\n",
    "        p_data.append(d[3])\n",
    "        l_data.append(d[4])\n",
    "    s_data = np.asarray(s_data, dtype=\"int64\")\n",
    "    d_data = np.asarray(d_data, dtype=\"int64\")\n",
    "    p_data = np.asarray(p_data, dtype=\"int64\")\n",
    "    l_data = np.asarray(l_data, dtype=\"int64\")\n",
    "    return s_data, d_data, p_data, l_data"
   ]
  },
  {
   "cell_type": "code",
   "execution_count": 4,
   "metadata": {},
   "outputs": [],
   "source": [
    "def load_data(config):\n",
    "    print(\"function : load data\")\n",
    "    print(\"type of batch_size : \", type(config.batch_size))\n",
    "    train_data = pickle.load(open(config.project_name + \"/train_nn.pkl\", \"rb\"))\n",
    "    valid_data = pickle.load(open(config.project_name + \"/valid_nn.pkl\", \"rb\"))\n",
    "    test_data = pickle.load(open(config.project_name + \"/test_nn.pkl\", \"rb\"))\n",
    "    print(\"train data :\", len(train_data))\n",
    "    print(\"valid data :\", len(valid_data))\n",
    "    print(\"test data :\", len(test_data))\n",
    "    return train_data, valid_data, test_data"
   ]
  },
  {
   "cell_type": "code",
   "execution_count": null,
   "metadata": {},
   "outputs": [],
   "source": []
  },
  {
   "cell_type": "code",
   "execution_count": 5,
   "metadata": {},
   "outputs": [],
   "source": [
    "def build_model(config):\n",
    "    '''构建模型'''\n",
    "    print(\"build the model\")\n",
    "    #论文基本模型 函数式\n",
    "    #summary\n",
    "    input_summary = Input(shape=(50,), dtype='int64', name='summary')\n",
    "    embedded_summary = Embedding(config.summary_length, 32)(input_summary)\n",
    "    encode_summary = LSTM(16)(embedded_summary)\n",
    "\n",
    "    #description\n",
    "    input_description = Input(shape=(100,), dtype='int64', name='description')\n",
    "    embedded_description = Embedding(config.description_length, 32)(input_description)\n",
    "    encode_description = LSTM(16)(embedded_description)\n",
    "\n",
    "    #priority\n",
    "    input_priority = Input(shape=(1,), dtype='int64', name='priority')\n",
    "    embedded_priority = Embedding(config.priority_length, 8)(input_priority)\n",
    "    encode_priority = Flatten()(embedded_priority)\n",
    "    \n",
    "    #concat\n",
    "    concatenated = concatenate([encode_summary, encode_description, encode_priority], axis=-1)\n",
    "    den_1 = Dense(64, activation='relu')(concatenated)\n",
    "    drop_1 = Dropout(config.dropoutKeepProb)(den_1)\n",
    "    den_2 = Dense(64, activation='relu')(drop_1)\n",
    "    drop_2 = Dropout(config.dropoutKeepProb)(den_2)\n",
    "    output = Dense(1, activation='sigmoid')(drop_2)\n",
    "    \n",
    "    model = Model([input_summary, input_description, input_priority], output)\n",
    "    \n",
    "    rmsprop = optimizers.RMSprop(lr=0.001, rho=0.9, epsilon=None, decay=0.0)\n",
    "\n",
    "    model.compile(optimizer=rmsprop,  # adam rmsprop\n",
    "              loss='binary_crossentropy',  # mse binary_crossentropy\n",
    "              metrics=['acc']) #metrics=['acc', precision, recall, f1]\n",
    "    model.summary()\n",
    "    \n",
    "    return model\n",
    "    "
   ]
  },
  {
   "cell_type": "code",
   "execution_count": 6,
   "metadata": {},
   "outputs": [],
   "source": [
    "def train(config):\n",
    "    #定义回调函数\n",
    "    callbacks_list = [\n",
    "        ReduceLROnPlateau(\n",
    "            # 当验证集上loss连续三个epoch不改变时，将学习率降低为原来的十分之一\n",
    "            monitor='val_loss',\n",
    "            factor=0.1,\n",
    "            patience=3\n",
    "        ),\n",
    "        ModelCheckpoint(\n",
    "            # 仅保存在验证集上表现最好的模型\n",
    "            filepath=config.model_dir,\n",
    "            monitor='val_loss',\n",
    "            save_best_only=True\n",
    "        ),\n",
    "    ]\n",
    "    \n",
    "    history = model.fit([train_summary, train_description, train_priority], train_label,\n",
    "                    epochs=config.n_epoch,\n",
    "                    batch_size=config.batch_size,\n",
    "                    callbacks=callbacks_list,\n",
    "                    validation_data=([valid_summary, valid_description, valid_priority], valid_label))\n",
    "    return history"
   ]
  },
  {
   "cell_type": "code",
   "execution_count": 10,
   "metadata": {},
   "outputs": [],
   "source": [
    "def evaluate(config):\n",
    "    #模型评估\n",
    "    model = load_model(config.model_dir, custom_objects={'AttentionLayer': AttentionLayer})\n",
    "    results = model.evaluate([test_summary, test_description, test_priority], test_label)\n",
    "#     pprint.pprint('评估结果:', results)\n",
    "    print(results)"
   ]
  },
  {
   "cell_type": "code",
   "execution_count": 11,
   "metadata": {},
   "outputs": [],
   "source": [
    "def draw():\n",
    "    #绘制结果\n",
    "    history_dict = history.history\n",
    "#     print(history_dict)\n",
    "\n",
    "    train_acc = history_dict['acc']\n",
    "    val_acc = history_dict['val_acc']\n",
    "    train_loss = history_dict['loss']\n",
    "    val_loss = history_dict['val_loss']\n",
    "\n",
    "    epochs = range(1, len(train_acc) + 1)\n",
    "\n",
    "    plt.plot(epochs, train_loss, 'bo', label='Training loss')\n",
    "    plt.plot(epochs, val_loss, 'b', label='Validation loss')\n",
    "    plt.title('Training and validation loss of lucene')\n",
    "    plt.legend()\n",
    "    plt.show()\n",
    "\n",
    "    plt.plot(epochs, train_acc, 'go', label='Training acc')\n",
    "    plt.plot(epochs, val_acc, 'g', label='Validation acc')\n",
    "    plt.title('Training and validation accuracy of lucene')\n",
    "    plt.legend()\n",
    "    plt.show()"
   ]
  },
  {
   "cell_type": "code",
   "execution_count": 15,
   "metadata": {
    "scrolled": false
   },
   "outputs": [
    {
     "name": "stdout",
     "output_type": "stream",
     "text": [
      "function : load data\n",
      "type of batch_size :  <class 'int'>\n",
      "train data : 1978\n",
      "valid data : 220\n",
      "test data : 245\n",
      "build the model\n",
      "Model: \"model_4\"\n",
      "__________________________________________________________________________________________________\n",
      "Layer (type)                    Output Shape         Param #     Connected to                     \n",
      "==================================================================================================\n",
      "summary (InputLayer)            [(None, 50)]         0                                            \n",
      "__________________________________________________________________________________________________\n",
      "description (InputLayer)        [(None, 100)]        0                                            \n",
      "__________________________________________________________________________________________________\n",
      "priority (InputLayer)           [(None, 1)]          0                                            \n",
      "__________________________________________________________________________________________________\n",
      "embedding_12 (Embedding)        (None, 50, 32)       108352      summary[0][0]                    \n",
      "__________________________________________________________________________________________________\n",
      "embedding_13 (Embedding)        (None, 100, 32)      595840      description[0][0]                \n",
      "__________________________________________________________________________________________________\n",
      "embedding_14 (Embedding)        (None, 1, 8)         48          priority[0][0]                   \n",
      "__________________________________________________________________________________________________\n",
      "lstm_8 (LSTM)                   (None, 16)           3136        embedding_12[0][0]               \n",
      "__________________________________________________________________________________________________\n",
      "lstm_9 (LSTM)                   (None, 16)           3136        embedding_13[0][0]               \n",
      "__________________________________________________________________________________________________\n",
      "flatten_4 (Flatten)             (None, 8)            0           embedding_14[0][0]               \n",
      "__________________________________________________________________________________________________\n",
      "concatenate_4 (Concatenate)     (None, 40)           0           lstm_8[0][0]                     \n",
      "                                                                 lstm_9[0][0]                     \n",
      "                                                                 flatten_4[0][0]                  \n",
      "__________________________________________________________________________________________________\n",
      "dense_12 (Dense)                (None, 64)           2624        concatenate_4[0][0]              \n",
      "__________________________________________________________________________________________________\n",
      "dropout_8 (Dropout)             (None, 64)           0           dense_12[0][0]                   \n",
      "__________________________________________________________________________________________________\n",
      "dense_13 (Dense)                (None, 64)           4160        dropout_8[0][0]                  \n",
      "__________________________________________________________________________________________________\n",
      "dropout_9 (Dropout)             (None, 64)           0           dense_13[0][0]                   \n",
      "__________________________________________________________________________________________________\n",
      "dense_14 (Dense)                (None, 1)            65          dropout_9[0][0]                  \n",
      "==================================================================================================\n",
      "Total params: 717,361\n",
      "Trainable params: 717,361\n",
      "Non-trainable params: 0\n",
      "__________________________________________________________________________________________________\n",
      "Train on 1978 samples, validate on 220 samples\n",
      "Epoch 1/10\n",
      "1978/1978 [==============================] - 7s 3ms/sample - loss: 0.5983 - acc: 0.7139 - val_loss: 0.5603 - val_acc: 0.7045\n",
      "Epoch 2/10\n",
      "1978/1978 [==============================] - 3s 1ms/sample - loss: 0.4406 - acc: 0.7735 - val_loss: 0.4204 - val_acc: 0.8091\n",
      "Epoch 3/10\n",
      "1978/1978 [==============================] - 3s 1ms/sample - loss: 0.2457 - acc: 0.9141 - val_loss: 0.3626 - val_acc: 0.8591\n",
      "Epoch 4/10\n",
      "1978/1978 [==============================] - 3s 1ms/sample - loss: 0.1366 - acc: 0.9550 - val_loss: 0.3998 - val_acc: 0.8682\n",
      "Epoch 5/10\n",
      "1978/1978 [==============================] - 3s 1ms/sample - loss: 0.0856 - acc: 0.9727 - val_loss: 0.4523 - val_acc: 0.8500\n",
      "Epoch 6/10\n",
      "1978/1978 [==============================] - 3s 1ms/sample - loss: 0.0465 - acc: 0.9884 - val_loss: 0.5366 - val_acc: 0.8409\n",
      "Epoch 7/10\n",
      "1978/1978 [==============================] - 3s 1ms/sample - loss: 0.0221 - acc: 0.9949 - val_loss: 0.5910 - val_acc: 0.8591\n",
      "Epoch 8/10\n",
      "1978/1978 [==============================] - 3s 1ms/sample - loss: 0.0186 - acc: 0.9960 - val_loss: 0.6143 - val_acc: 0.8455\n",
      "Epoch 9/10\n",
      "1978/1978 [==============================] - 2s 1ms/sample - loss: 0.0180 - acc: 0.9954 - val_loss: 0.6944 - val_acc: 0.8500\n",
      "Epoch 10/10\n",
      "1978/1978 [==============================] - 2s 976us/sample - loss: 0.0137 - acc: 0.9980 - val_loss: 0.6898 - val_acc: 0.8500\n",
      "245/245 [==============================] - 0s 1ms/sample - loss: 0.4730 - acc: 0.7918\n",
      "[0.473023417896154, 0.79183674]\n"
     ]
    },
    {
     "data": {
      "image/png": "[encoded data removed]",
      "text/plain": [
       "<Figure size 432x288 with 1 Axes>"
      ]
     },
     "metadata": {
      "needs_background": "light"
     },
     "output_type": "display_data"
    },
    {
     "data": {
      "image/png": "[encoded data removed]",
      "text/plain": [
       "<Figure size 432x288 with 1 Axes>"
      ]
     },
     "metadata": {
      "needs_background": "light"
     },
     "output_type": "display_data"
    }
   ],
   "source": [
    "if __name__ == '__main__':\n",
    "    config = Config()\n",
    "    train_data, valid_data, test_data = load_data(config)\n",
    "    '''分离数据中的句子和标签'''\n",
    "    train_summary, train_description, train_priority, train_label = split_data(train_data)\n",
    "    valid_summary, valid_description, valid_priority, valid_label = split_data(valid_data)\n",
    "    test_summary, test_description, test_priority, test_label = split_data(test_data)\n",
    "    \n",
    "    model = build_model(config)\n",
    "    \n",
    "    history = train(config)\n",
    "    \n",
    "    evaluate(config)\n",
    "    \n",
    "    draw()"
   ]
  },
  {
   "cell_type": "code",
   "execution_count": null,
   "metadata": {},
   "outputs": [],
   "source": []
  }
 ],
 "metadata": {
  "kernelspec": {
   "display_name": "Python 3",
   "language": "python",
   "name": "python3"
  },
  "language_info": {
   "codemirror_mode": {
    "name": "ipython",
    "version": 3
   },
   "file_extension": ".py",
   "mimetype": "text/x-python",
   "name": "python",
   "nbconvert_exporter": "python",
   "pygments_lexer": "ipython3",
   "version": "3.7.3"
  }
 },
 "nbformat": 4,
 "nbformat_minor": 2
}

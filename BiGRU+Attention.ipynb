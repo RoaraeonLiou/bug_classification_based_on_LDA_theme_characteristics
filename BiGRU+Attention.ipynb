{
 "cells": [
  {
   "cell_type": "code",
   "execution_count": 1,
   "metadata": {},
   "outputs": [
    {
     "data": {
      "text/plain": [
       "' 5 有词干化 不<NUM> summary与description分开词汇表\\nall 6108 37885\\nhttpclient 1377 7958\\njackrabbit 3038 17291\\nlucene 3376 18496\\n'"
      ]
     },
     "execution_count": 1,
     "metadata": {},
     "output_type": "execute_result"
    }
   ],
   "source": [
    "import sys\n",
    "import pickle\n",
    "import numpy as np\n",
    "import tensorflow as tf\n",
    "from tensorflow import keras\n",
    "from tensorflow.keras.models import Model\n",
    "from tensorflow.keras.models import Sequential\n",
    "from tensorflow.keras.layers import Flatten, Dense, Embedding, Dropout\n",
    "from tensorflow.keras.layers import SimpleRNN, LSTM, GRU, Bidirectional, concatenate\n",
    "from tensorflow.keras import preprocessing\n",
    "from tensorflow.keras.callbacks import EarlyStopping, ModelCheckpoint, ReduceLROnPlateau, TensorBoard\n",
    "from tensorflow.keras import Input\n",
    "from tensorflow.keras import optimizers\n",
    "from tensorflow.keras.models import load_model\n",
    "import matplotlib.pyplot as plt\n",
    "from attention import AttentionLayer #ok\n",
    "import pprint\n",
    "\n",
    "''' 5 有词干化 不<NUM> summary与description分开词汇表\n",
    "all 6108 37885\n",
    "httpclient 1377 7958\n",
    "jackrabbit 3038 17291\n",
    "lucene 3376 18496\n",
    "'''"
   ]
  },
  {
   "cell_type": "code",
   "execution_count": 2,
   "metadata": {},
   "outputs": [],
   "source": [
    "#参数配置\n",
    "class Config(object):\n",
    "\n",
    "    #数据集路径\n",
    "    project_name = \"output5\\\\lucene\"\n",
    "\n",
    "    #训练参数\n",
    "    num_hidden = 100\n",
    "    num_layer = 3\n",
    "    non_static = True\n",
    "\n",
    "    summary_length = 3386\n",
    "    description_length = 18620\n",
    "    priority_length = 6\n",
    "    n_epoch = 10\n",
    "    batch_size = 32\n",
    "    num_classes = 2\n",
    "    dropoutKeepProb = 0.3\n",
    "\n",
    "    #保存路径\n",
    "    log_dir = 'LSTM_log\\\\all'\n",
    "    model_dir = 'BiGRU_att1_model\\\\BiGRU_att_lucene.h5'\n"
   ]
  },
  {
   "cell_type": "code",
   "execution_count": 3,
   "metadata": {},
   "outputs": [],
   "source": [
    "def split_data(data):\n",
    "    '''将数据中的句向量和标签取出'''\n",
    "    s_data, d_data, p_data, l_data = [], [], [], []\n",
    "    for d in data:\n",
    "        s_data.append(d[1])\n",
    "        d_data.append(d[2])\n",
    "        p_data.append(d[3])\n",
    "        l_data.append(d[4])\n",
    "    s_data = np.asarray(s_data, dtype=\"int64\")\n",
    "    d_data = np.asarray(d_data, dtype=\"int64\")\n",
    "    p_data = np.asarray(p_data, dtype=\"int64\")\n",
    "    l_data = np.asarray(l_data, dtype=\"int64\")\n",
    "    return s_data, d_data, p_data, l_data"
   ]
  },
  {
   "cell_type": "code",
   "execution_count": 4,
   "metadata": {},
   "outputs": [],
   "source": [
    "def load_data(config):\n",
    "    '''加载训练、验证、测试数据'''\n",
    "    print(\"load data\")\n",
    "    print(\"function : load data\")\n",
    "    print(\"type of batch_size : \", type(config.batch_size))\n",
    "    train_data = pickle.load(open(config.project_name + \"/train_nn.pkl\", \"rb\"))\n",
    "    valid_data = pickle.load(open(config.project_name + \"/valid_nn.pkl\", \"rb\"))\n",
    "    test_data = pickle.load(open(config.project_name + \"/test_nn.pkl\", \"rb\"))\n",
    "    print(\"train data :\", len(train_data))\n",
    "    print(\"valid data :\", len(valid_data))\n",
    "    print(\"test data :\", len(test_data))\n",
    "    return train_data, valid_data, test_data"
   ]
  },
  {
   "cell_type": "code",
   "execution_count": 5,
   "metadata": {},
   "outputs": [],
   "source": [
    "def build_model(config):\n",
    "    # '''构建模型'''\n",
    "    print(\"build the model\")\n",
    "    #论文基本模型 函数式\n",
    "    #summary\n",
    "    input_summary = Input(shape=(50,), dtype='int64', name='summary')\n",
    "    embedded_summary = Embedding(config.summary_length, 32)(input_summary)\n",
    "    encode_summary = Bidirectional(GRU(16, return_sequences=True))(embedded_summary)\n",
    "    att_summary = AttentionLayer()(encode_summary)\n",
    "    #description\n",
    "    input_description = Input(shape=(100,), dtype='int64', name='description')\n",
    "    embedded_description = Embedding(config.description_length, 32)(input_description)\n",
    "    encode_description = Bidirectional(GRU(16, return_sequences=True))(embedded_description)\n",
    "    att_description = AttentionLayer()(encode_description)\n",
    "    #priority\n",
    "    input_priority = Input(shape=(1,), dtype='int64', name='priority')\n",
    "    embedded_priority = Embedding(config.priority_length, 8)(input_priority)\n",
    "    encode_priority = Flatten()(embedded_priority)\n",
    "    #concat\n",
    "    concatenated = concatenate([att_summary, att_description, encode_priority], axis=-1)\n",
    "    den_1 = Dense(64, activation='relu')(concatenated)\n",
    "    drop_1 = Dropout(config.dropoutKeepProb)(den_1)\n",
    "    den_2 = Dense(64, activation='relu')(drop_1)\n",
    "    drop_2 = Dropout(config.dropoutKeepProb)(den_2)\n",
    "    output = Dense(1, activation='sigmoid')(drop_2)\n",
    "    \n",
    "    model = Model([input_summary, input_description, input_priority], output)\n",
    "\n",
    "    rmsprop = optimizers.RMSprop(lr=0.001, rho=0.9, epsilon=None, decay=0.0)\n",
    "\n",
    "    model.compile(optimizer=rmsprop,  # adam rmsprop\n",
    "                  loss='binary_crossentropy',  # mse binary_crossentropy\n",
    "                  metrics=['acc']) #metrics=['acc', precision, recall, f1]\n",
    "    model.summary()\n",
    "    return model"
   ]
  },
  {
   "cell_type": "code",
   "execution_count": 6,
   "metadata": {},
   "outputs": [],
   "source": [
    "def train(model, config):\n",
    "    #定义回调函数\n",
    "    callbacks_list = [\n",
    "        ReduceLROnPlateau(\n",
    "            monitor='val_loss',\n",
    "            factor=0.1,\n",
    "            patience=3\n",
    "        ),\n",
    "        ModelCheckpoint(\n",
    "            filepath=config.model_dir,\n",
    "            monitor='val_loss',\n",
    "            save_best_only=True\n",
    "        ),\n",
    "    ]\n",
    "\n",
    "\n",
    "\n",
    "    history = model.fit([train_summary, train_description, train_priority], train_label,\n",
    "                        epochs=config.n_epoch,\n",
    "                        batch_size=config.batch_size,\n",
    "                        callbacks=callbacks_list,\n",
    "                        validation_data=([valid_summary, valid_description, valid_priority], valid_label))\n",
    "    return history"
   ]
  },
  {
   "cell_type": "code",
   "execution_count": 7,
   "metadata": {},
   "outputs": [],
   "source": [
    "def evaluate(config):\n",
    "    \n",
    "    #模型评估\n",
    "    model1 = load_model(config.model_dir, custom_objects={'AttentionLayer': AttentionLayer})\n",
    "    results = model1.evaluate([test_summary, test_description, test_priority], test_label)\n",
    "    pprint.pprint(results)\n"
   ]
  },
  {
   "cell_type": "code",
   "execution_count": 8,
   "metadata": {},
   "outputs": [],
   "source": [
    "def draw(history):\n",
    "    #绘制结果\n",
    "    history_dict = history.history\n",
    "    print(history_dict)\n",
    "    train_acc = history_dict['acc']\n",
    "    val_acc = history_dict['val_acc']\n",
    "    train_loss = history_dict['loss']\n",
    "    val_loss = history_dict['val_loss']\n",
    "\n",
    "    epochs = range(1, len(train_acc) + 1)\n",
    "\n",
    "    plt.plot(epochs, train_loss, 'bo', label='Training loss')\n",
    "    plt.plot(epochs, val_loss, 'b', label='Validation loss')\n",
    "    plt.title('Training and validation loss of httpclient')\n",
    "    plt.legend()\n",
    "    plt.show()\n",
    "\n",
    "    plt.plot(epochs, train_acc, 'go', label='Training acc')\n",
    "    plt.plot(epochs, val_acc, 'g', label='Validation acc')\n",
    "    plt.title('Training and validation accuracy of httpclient')\n",
    "    plt.legend()\n",
    "    plt.show()\n"
   ]
  },
  {
   "cell_type": "code",
   "execution_count": 10,
   "metadata": {
    "scrolled": false
   },
   "outputs": [
    {
     "name": "stdout",
     "output_type": "stream",
     "text": [
      "load data\n",
      "function : load data\n",
      "type of batch_size :  <class 'int'>\n",
      "train data : 1978\n",
      "valid data : 220\n",
      "test data : 245\n",
      "build the model\n",
      "Model: \"model_1\"\n",
      "__________________________________________________________________________________________________\n",
      "Layer (type)                    Output Shape         Param #     Connected to                     \n",
      "==================================================================================================\n",
      "summary (InputLayer)            [(None, 50)]         0                                            \n",
      "__________________________________________________________________________________________________\n",
      "description (InputLayer)        [(None, 100)]        0                                            \n",
      "__________________________________________________________________________________________________\n",
      "embedding_3 (Embedding)         (None, 50, 32)       108352      summary[0][0]                    \n",
      "__________________________________________________________________________________________________\n",
      "embedding_4 (Embedding)         (None, 100, 32)      595840      description[0][0]                \n",
      "__________________________________________________________________________________________________\n",
      "priority (InputLayer)           [(None, 1)]          0                                            \n",
      "__________________________________________________________________________________________________\n",
      "bidirectional_2 (Bidirectional) (None, 50, 32)       4800        embedding_3[0][0]                \n",
      "__________________________________________________________________________________________________\n",
      "bidirectional_3 (Bidirectional) (None, 100, 32)      4800        embedding_4[0][0]                \n",
      "__________________________________________________________________________________________________\n",
      "embedding_5 (Embedding)         (None, 1, 8)         48          priority[0][0]                   \n",
      "__________________________________________________________________________________________________\n",
      "attention_layer_2 (AttentionLay (None, 32)           2550        bidirectional_2[0][0]            \n",
      "__________________________________________________________________________________________________\n",
      "attention_layer_3 (AttentionLay (None, 32)           10100       bidirectional_3[0][0]            \n",
      "__________________________________________________________________________________________________\n",
      "flatten_1 (Flatten)             (None, 8)            0           embedding_5[0][0]                \n",
      "__________________________________________________________________________________________________\n",
      "concatenate_1 (Concatenate)     (None, 72)           0           attention_layer_2[0][0]          \n",
      "                                                                 attention_layer_3[0][0]          \n",
      "                                                                 flatten_1[0][0]                  \n",
      "__________________________________________________________________________________________________\n",
      "dense_3 (Dense)                 (None, 64)           4672        concatenate_1[0][0]              \n",
      "__________________________________________________________________________________________________\n",
      "dropout_2 (Dropout)             (None, 64)           0           dense_3[0][0]                    \n",
      "__________________________________________________________________________________________________\n",
      "dense_4 (Dense)                 (None, 64)           4160        dropout_2[0][0]                  \n",
      "__________________________________________________________________________________________________\n",
      "dropout_3 (Dropout)             (None, 64)           0           dense_4[0][0]                    \n",
      "__________________________________________________________________________________________________\n",
      "dense_5 (Dense)                 (None, 1)            65          dropout_3[0][0]                  \n",
      "==================================================================================================\n",
      "Total params: 735,387\n",
      "Trainable params: 735,387\n",
      "Non-trainable params: 0\n",
      "__________________________________________________________________________________________________\n",
      "Train on 1978 samples, validate on 220 samples\n",
      "Epoch 1/10\n",
      "1978/1978 [==============================] - 8s 4ms/sample - loss: 0.5947 - acc: 0.7169 - val_loss: 0.5721 - val_acc: 0.7045\n",
      "Epoch 2/10\n",
      "1978/1978 [==============================] - 3s 1ms/sample - loss: 0.5031 - acc: 0.7553 - val_loss: 0.5149 - val_acc: 0.7591\n",
      "Epoch 3/10\n",
      "1978/1978 [==============================] - 3s 1ms/sample - loss: 0.3498 - acc: 0.8493 - val_loss: 0.4311 - val_acc: 0.8182\n",
      "Epoch 4/10\n",
      "1978/1978 [==============================] - 3s 1ms/sample - loss: 0.2706 - acc: 0.8938 - val_loss: 0.4106 - val_acc: 0.8545\n",
      "Epoch 5/10\n",
      "1978/1978 [==============================] - 3s 1ms/sample - loss: 0.1999 - acc: 0.9216 - val_loss: 0.4178 - val_acc: 0.8273\n",
      "Epoch 6/10\n",
      "1978/1978 [==============================] - 3s 1ms/sample - loss: 0.1386 - acc: 0.9505 - val_loss: 0.4626 - val_acc: 0.8318\n",
      "Epoch 7/10\n",
      "1978/1978 [==============================] - 3s 1ms/sample - loss: 0.0838 - acc: 0.9717 - val_loss: 0.5596 - val_acc: 0.8500\n",
      "Epoch 8/10\n",
      "1978/1978 [==============================] - 3s 1ms/sample - loss: 0.0463 - acc: 0.9889 - val_loss: 0.5582 - val_acc: 0.8500\n",
      "Epoch 9/10\n",
      "1978/1978 [==============================] - 3s 1ms/sample - loss: 0.0423 - acc: 0.9894 - val_loss: 0.5817 - val_acc: 0.8500\n",
      "Epoch 10/10\n",
      "1978/1978 [==============================] - 3s 2ms/sample - loss: 0.0345 - acc: 0.9904 - val_loss: 0.6730 - val_acc: 0.8409\n",
      "245/245 [==============================] - 1s 2ms/sample - loss: 0.4470 - acc: 0.8041\n",
      "[0.44697414733925644, 0.8040816]\n",
      "{'loss': [0.5946585929550464, 0.503108545520067, 0.34982401135596997, 0.27055784032366514, 0.19992905562127686, 0.13863347766071527, 0.0837875555567933, 0.04629709488167018, 0.04227075593958489, 0.03445815582146644], 'acc': [0.71688575, 0.7553084, 0.84934276, 0.89383215, 0.921638, 0.950455, 0.97168857, 0.98887765, 0.9893832, 0.99039435], 'val_loss': [0.5720619147474115, 0.5149157220667059, 0.43113111799413506, 0.410580068284815, 0.417817147211595, 0.46256546540693805, 0.559641788222573, 0.5582203019749035, 0.581725432656028, 0.6729514577172019], 'val_acc': [0.70454544, 0.7590909, 0.8181818, 0.8545455, 0.8272727, 0.83181816, 0.85, 0.85, 0.85, 0.84090906], 'lr': [0.001, 0.001, 0.001, 0.001, 0.001, 0.001, 0.001, 0.000100000005, 0.000100000005, 0.000100000005]}\n"
     ]
    },
    {
     "data": {
      "image/png": "[encoded data removed]",
      "text/plain": [
       "<Figure size 432x288 with 1 Axes>"
      ]
     },
     "metadata": {
      "needs_background": "light"
     },
     "output_type": "display_data"
    },
    {
     "data": {
      "image/png": "[encoded data removed]",
      "text/plain": [
       "<Figure size 432x288 with 1 Axes>"
      ]
     },
     "metadata": {
      "needs_background": "light"
     },
     "output_type": "display_data"
    }
   ],
   "source": [
    "if __name__ == \"__main__\":\n",
    "    config = Config()\n",
    "\n",
    "    train_data, valid_data, test_data = load_data(config)\n",
    "\n",
    "\n",
    "    '''分离数据中的句子和标签'''\n",
    "    train_summary, train_description, train_priority, train_label = split_data(train_data)\n",
    "    valid_summary, valid_description, valid_priority, valid_label = split_data(valid_data)\n",
    "    test_summary, test_description, test_priority, test_label = split_data(test_data)\n",
    "\n",
    "    model = build_model(config)\n",
    "    \n",
    "    history = train(model, config)\n",
    "    \n",
    "    evaluate(config)\n",
    "    \n",
    "    draw(history)"
   ]
  },
  {
   "cell_type": "code",
   "execution_count": null,
   "metadata": {},
   "outputs": [],
   "source": []
  }
 ],
 "metadata": {
  "kernelspec": {
   "display_name": "Python 3",
   "language": "python",
   "name": "python3"
  },
  "language_info": {
   "codemirror_mode": {
    "name": "ipython",
    "version": 3
   },
   "file_extension": ".py",
   "mimetype": "text/x-python",
   "name": "python",
   "nbconvert_exporter": "python",
   "pygments_lexer": "ipython3",
   "version": "3.7.3"
  }
 },
 "nbformat": 4,
 "nbformat_minor": 2
}

{
 "cells": [
  {
   "cell_type": "code",
   "execution_count": 1,
   "metadata": {},
   "outputs": [
    {
     "data": {
      "text/plain": [
       "' 5 有词干化 不<NUM> summary与description分开词汇表\\nall 6108 37885\\nhttpclient 1377 7958\\njackrabbit 3038 17291\\nlucene 3376 18496\\n'"
      ]
     },
     "execution_count": 1,
     "metadata": {},
     "output_type": "execute_result"
    }
   ],
   "source": [
    "import sys\n",
    "import pickle\n",
    "import numpy as np\n",
    "import tensorflow as tf\n",
    "from tensorflow import keras\n",
    "from tensorflow.keras.models import Model\n",
    "from tensorflow.keras.models import Sequential\n",
    "from tensorflow.keras.layers import Flatten, Dense, Embedding, Dropout\n",
    "from tensorflow.keras.layers import SimpleRNN, LSTM, GRU, Bidirectional, concatenate\n",
    "from tensorflow.keras import preprocessing\n",
    "from tensorflow.keras.callbacks import EarlyStopping, ModelCheckpoint, ReduceLROnPlateau, TensorBoard\n",
    "from tensorflow.keras import Input\n",
    "from tensorflow.keras import optimizers\n",
    "from tensorflow.keras.models import load_model\n",
    "import matplotlib.pyplot as plt\n",
    "from attention import AttentionLayer #ok\n",
    "import pprint\n",
    "\n",
    "''' 5 有词干化 不<NUM> summary与description分开词汇表\n",
    "all 6108 37885\n",
    "httpclient 1377 7958\n",
    "jackrabbit 3038 17291\n",
    "lucene 3376 18496\n",
    "'''\n"
   ]
  },
  {
   "cell_type": "code",
   "execution_count": 2,
   "metadata": {},
   "outputs": [],
   "source": [
    "#参数配置\n",
    "class Config(object):\n",
    "\n",
    "    #数据集路径\n",
    "    project_name = \"output5\\\\lucene\"\n",
    "\n",
    "    #训练参数\n",
    "    num_hidden = 100\n",
    "    num_layer = 3\n",
    "    non_static = True\n",
    "\n",
    "    summary_length = 3386\n",
    "    description_length = 18620\n",
    "    priority_length = 6\n",
    "    theme_length = 2\n",
    "    n_epoch = 10\n",
    "    batch_size = 32\n",
    "    num_classes = 2\n",
    "    dropoutKeepProb = 0.3\n",
    "\n",
    "    #保存路径\n",
    "    log_dir = 'LSTM_log\\\\all'\n",
    "    model_dir = 'com_GRU_model\\\\GRU_lucene.h5'\n"
   ]
  },
  {
   "cell_type": "code",
   "execution_count": 3,
   "metadata": {},
   "outputs": [],
   "source": [
    "# def split_data(data):\n",
    "#     '''将数据中的句向量和标签取出'''\n",
    "#     s_data, d_data, p_data, t_data, l_data = [], [], [], [], []\n",
    "#     for d in data:\n",
    "#         s_data.append(d[1])\n",
    "#         d_data.append(d[2])\n",
    "#         p_data.append(d[3])\n",
    "#         t_data.append(d[4])\n",
    "#         l_data.append(d[5])\n",
    "#     print(t_data[0])\n",
    "#     s_data = np.asarray(s_data, dtype=\"int64\")\n",
    "#     d_data = np.asarray(d_data, dtype=\"int64\")\n",
    "#     p_data = np.asarray(p_data, dtype=\"int64\")\n",
    "#     t_data = np.asarray(t_data, dtype=\"int64\")\n",
    "#     l_data = np.asarray(l_data, dtype=\"int64\")\n",
    "#     return s_data, d_data, p_data, t_data, l_data\n",
    "def split_data(data):\n",
    "    '''将数据中的句向量和标签取出'''\n",
    "    s_data, d_data, p_data, l_data = [], [], [], []\n",
    "    for d in data:\n",
    "        s_data.append(d[1])\n",
    "        d_data.append(d[2])\n",
    "        p_data.append(d[3])\n",
    "        l_data.append(d[4])\n",
    "    s_data = np.asarray(s_data, dtype=\"int64\")\n",
    "    d_data = np.asarray(d_data, dtype=\"int64\")\n",
    "    p_data = np.asarray(p_data, dtype=\"int64\")\n",
    "    l_data = np.asarray(l_data, dtype=\"int64\")\n",
    "    return s_data, d_data, p_data, l_data"
   ]
  },
  {
   "cell_type": "code",
   "execution_count": 4,
   "metadata": {},
   "outputs": [],
   "source": [
    "def load_data(config):\n",
    "    '''加载训练、验证、测试数据'''\n",
    "    print(\"load data\")\n",
    "    print(\"function : load data\")\n",
    "    print(\"type of batch_size : \", type(config.batch_size))\n",
    "    train_data = pickle.load(open(config.project_name + \"/train_nn.pkl\", \"rb\"))\n",
    "    valid_data = pickle.load(open(config.project_name + \"/valid_nn.pkl\", \"rb\"))\n",
    "    test_data = pickle.load(open(config.project_name + \"/test_nn.pkl\", \"rb\"))\n",
    "    print(\"train data :\", len(train_data))\n",
    "    print(\"valid data :\", len(valid_data))\n",
    "    print(\"test data :\", len(test_data))\n",
    "    return train_data, valid_data, test_data"
   ]
  },
  {
   "cell_type": "code",
   "execution_count": 5,
   "metadata": {},
   "outputs": [],
   "source": [
    "def build_model(config):\n",
    "    # '''构建模型'''\n",
    "    print(\"build the model\")\n",
    "    #论文基本模型 函数式\n",
    "    #summary\n",
    "    input_summary = Input(shape=(50,), dtype='int64', name='summary')\n",
    "    embedded_summary = Embedding(config.summary_length, 32)(input_summary)\n",
    "    encode_summary = GRU(16)(embedded_summary)\n",
    "\n",
    "    #description\n",
    "    input_description = Input(shape=(100,), dtype='int64', name='description')\n",
    "    embedded_description = Embedding(config.description_length, 32)(input_description)\n",
    "    encode_description = GRU(16)(embedded_description)\n",
    "\n",
    "    #priority\n",
    "    input_priority = Input(shape=(1,), dtype='int64', name='priority')\n",
    "    embedded_priority = Embedding(config.priority_length, 8)(input_priority)\n",
    "    encode_priority = Flatten()(embedded_priority)\n",
    "    #concat\n",
    "    concatenated = concatenate([encode_summary, encode_description, encode_priority], axis=-1)\n",
    "    den_1 = Dense(64, activation='relu')(concatenated)\n",
    "    drop_1 = Dropout(config.dropoutKeepProb)(den_1)\n",
    "    den_2 = Dense(64, activation='relu')(drop_1)\n",
    "    drop_2 = Dropout(config.dropoutKeepProb)(den_2)\n",
    "    output = Dense(1, activation='sigmoid')(drop_2)\n",
    "\n",
    "\n",
    "    model = Model([input_summary, input_description, input_priority], output)\n",
    "    rmsprop = optimizers.RMSprop(lr=0.001, rho=0.9, epsilon=None, decay=0.0)\n",
    "\n",
    "    model.compile(optimizer=rmsprop,  # adam rmsprop\n",
    "                  loss='binary_crossentropy',  # mse binary_crossentropy\n",
    "                  metrics=['acc']) #metrics=['acc', precision, recall, f1]\n",
    "    model.summary()\n",
    "    return model"
   ]
  },
  {
   "cell_type": "code",
   "execution_count": 6,
   "metadata": {},
   "outputs": [],
   "source": [
    "def train(config):\n",
    "    \n",
    "    #定义回调函数\n",
    "    callbacks_list = [\n",
    "        ReduceLROnPlateau(\n",
    "            monitor='val_loss',\n",
    "            factor=0.1,\n",
    "            patience=3\n",
    "        ),\n",
    "        ModelCheckpoint(\n",
    "            filepath=config.model_dir,\n",
    "            monitor='val_loss',\n",
    "            save_best_only=True\n",
    "        ),\n",
    "    ]\n",
    "    \n",
    "    history = model.fit([train_summary, train_description, train_priority], train_label,\n",
    "                    epochs=config.n_epoch,\n",
    "                    batch_size=config.batch_size,\n",
    "                    callbacks=callbacks_list,\n",
    "                    validation_data=([valid_summary, valid_description, valid_priority], valid_label))\n",
    "\n",
    "    return history"
   ]
  },
  {
   "cell_type": "code",
   "execution_count": null,
   "metadata": {},
   "outputs": [],
   "source": []
  },
  {
   "cell_type": "code",
   "execution_count": 7,
   "metadata": {},
   "outputs": [],
   "source": [
    "def evaluate(config):\n",
    "    #模型评估\n",
    "    model1 = load_model(config.model_dir, custom_objects={'AttentionLayer': AttentionLayer})\n",
    "    results = model1.evaluate([test_summary, test_description, test_priority], test_label)\n",
    "    pprint.pprint(results)"
   ]
  },
  {
   "cell_type": "code",
   "execution_count": 8,
   "metadata": {},
   "outputs": [],
   "source": [
    "def draw(history):\n",
    "    #绘制结果\n",
    "    history_dict = history.history\n",
    "    print(history_dict)\n",
    "\n",
    "    train_acc = history_dict['acc']\n",
    "    val_acc = history_dict['val_acc']\n",
    "    train_loss = history_dict['loss']\n",
    "    val_loss = history_dict['val_loss']\n",
    "\n",
    "    epochs = range(1, len(train_acc) + 1)\n",
    "\n",
    "    plt.plot(epochs, train_loss, 'bo', label='Training loss')\n",
    "    plt.plot(epochs, val_loss, 'b', label='Validation loss')\n",
    "    plt.title('Training and validation loss of Jackrabbit')\n",
    "    plt.legend()\n",
    "    plt.show()\n",
    "\n",
    "    plt.plot(epochs, train_acc, 'go', label='Training acc')\n",
    "    plt.plot(epochs, val_acc, 'g', label='Validation acc')\n",
    "    plt.title('Training and validation accuracy of Jackrabbit')\n",
    "    plt.legend()\n",
    "    plt.show()\n"
   ]
  },
  {
   "cell_type": "code",
   "execution_count": 10,
   "metadata": {
    "scrolled": false
   },
   "outputs": [
    {
     "name": "stdout",
     "output_type": "stream",
     "text": [
      "load data\n",
      "function : load data\n",
      "type of batch_size :  <class 'int'>\n",
      "train data : 1978\n",
      "valid data : 220\n",
      "test data : 245\n",
      "build the model\n",
      "Model: \"model_1\"\n",
      "__________________________________________________________________________________________________\n",
      "Layer (type)                    Output Shape         Param #     Connected to                     \n",
      "==================================================================================================\n",
      "summary (InputLayer)            [(None, 50)]         0                                            \n",
      "__________________________________________________________________________________________________\n",
      "description (InputLayer)        [(None, 100)]        0                                            \n",
      "__________________________________________________________________________________________________\n",
      "priority (InputLayer)           [(None, 1)]          0                                            \n",
      "__________________________________________________________________________________________________\n",
      "embedding_3 (Embedding)         (None, 50, 32)       108352      summary[0][0]                    \n",
      "__________________________________________________________________________________________________\n",
      "embedding_4 (Embedding)         (None, 100, 32)      595840      description[0][0]                \n",
      "__________________________________________________________________________________________________\n",
      "embedding_5 (Embedding)         (None, 1, 8)         48          priority[0][0]                   \n",
      "__________________________________________________________________________________________________\n",
      "gru_2 (GRU)                     (None, 16)           2400        embedding_3[0][0]                \n",
      "__________________________________________________________________________________________________\n",
      "gru_3 (GRU)                     (None, 16)           2400        embedding_4[0][0]                \n",
      "__________________________________________________________________________________________________\n",
      "flatten_1 (Flatten)             (None, 8)            0           embedding_5[0][0]                \n",
      "__________________________________________________________________________________________________\n",
      "concatenate_1 (Concatenate)     (None, 40)           0           gru_2[0][0]                      \n",
      "                                                                 gru_3[0][0]                      \n",
      "                                                                 flatten_1[0][0]                  \n",
      "__________________________________________________________________________________________________\n",
      "dense_3 (Dense)                 (None, 64)           2624        concatenate_1[0][0]              \n",
      "__________________________________________________________________________________________________\n",
      "dropout_2 (Dropout)             (None, 64)           0           dense_3[0][0]                    \n",
      "__________________________________________________________________________________________________\n",
      "dense_4 (Dense)                 (None, 64)           4160        dropout_2[0][0]                  \n",
      "__________________________________________________________________________________________________\n",
      "dropout_3 (Dropout)             (None, 64)           0           dense_4[0][0]                    \n",
      "__________________________________________________________________________________________________\n",
      "dense_5 (Dense)                 (None, 1)            65          dropout_3[0][0]                  \n",
      "==================================================================================================\n",
      "Total params: 715,889\n",
      "Trainable params: 715,889\n",
      "Non-trainable params: 0\n",
      "__________________________________________________________________________________________________\n",
      "Train on 1978 samples, validate on 220 samples\n",
      "Epoch 1/10\n",
      "1978/1978 [==============================] - 5s 3ms/sample - loss: 0.5975 - acc: 0.7113 - val_loss: 0.5641 - val_acc: 0.7045\n",
      "Epoch 2/10\n",
      "1978/1978 [==============================] - 2s 1ms/sample - loss: 0.4338 - acc: 0.7831 - val_loss: 0.3895 - val_acc: 0.8409\n",
      "Epoch 3/10\n",
      "1978/1978 [==============================] - 2s 1ms/sample - loss: 0.2470 - acc: 0.9095 - val_loss: 0.4548 - val_acc: 0.8227\n",
      "Epoch 4/10\n",
      "1978/1978 [==============================] - 2s 1ms/sample - loss: 0.1385 - acc: 0.9499 - val_loss: 0.4818 - val_acc: 0.8136\n",
      "Epoch 5/10\n",
      "1978/1978 [==============================] - 2s 1ms/sample - loss: 0.0881 - acc: 0.9717 - val_loss: 0.6089 - val_acc: 0.8409\n",
      "Epoch 6/10\n",
      "1978/1978 [==============================] - 2s 1ms/sample - loss: 0.0399 - acc: 0.9894 - val_loss: 0.6746 - val_acc: 0.8318\n",
      "Epoch 7/10\n",
      "1978/1978 [==============================] - 2s 1ms/sample - loss: 0.0353 - acc: 0.9889 - val_loss: 0.7165 - val_acc: 0.8273\n",
      "Epoch 8/10\n",
      "1978/1978 [==============================] - 2s 1ms/sample - loss: 0.0304 - acc: 0.9919 - val_loss: 0.7092 - val_acc: 0.8227\n",
      "Epoch 9/10\n",
      "1978/1978 [==============================] - 2s 1ms/sample - loss: 0.0302 - acc: 0.9929 - val_loss: 0.7237 - val_acc: 0.8273\n",
      "Epoch 10/10\n",
      "1978/1978 [==============================] - 2s 1ms/sample - loss: 0.0284 - acc: 0.9929 - val_loss: 0.7327 - val_acc: 0.8227\n",
      "245/245 [==============================] - 0s 1ms/sample - loss: 0.4904 - acc: 0.7673\n",
      "[0.490426766872406, 0.7673469]\n",
      "{'loss': [0.5975251981896265, 0.43382076293802596, 0.2469942765602328, 0.1384539618500564, 0.08809797701598178, 0.03991112435618896, 0.03534109995458407, 0.03041693085900633, 0.030216841131667217, 0.028369134602761244], 'acc': [0.7113246, 0.78311425, 0.90950453, 0.94994944, 0.97168857, 0.9893832, 0.98887765, 0.991911, 0.9929221, 0.9929221], 'val_loss': [0.5640845591371709, 0.3895121910355308, 0.4548370903188532, 0.48182841864499176, 0.6089286999268966, 0.6745969859036532, 0.7165294994007457, 0.709186484596946, 0.7236642837524414, 0.7327099496668036], 'val_acc': [0.70454544, 0.84090906, 0.82272726, 0.81363636, 0.84090906, 0.83181816, 0.8272727, 0.82272726, 0.8272727, 0.82272726], 'lr': [0.001, 0.001, 0.001, 0.001, 0.001, 0.000100000005, 0.000100000005, 0.000100000005, 1.0000001e-05, 1.0000001e-05]}\n"
     ]
    },
    {
     "data": {
      "image/png": "[encoded data removed]",
      "text/plain": [
       "<Figure size 432x288 with 1 Axes>"
      ]
     },
     "metadata": {
      "needs_background": "light"
     },
     "output_type": "display_data"
    },
    {
     "data": {
      "image/png": "[encoded data removed]",
      "text/plain": [
       "<Figure size 432x288 with 1 Axes>"
      ]
     },
     "metadata": {
      "needs_background": "light"
     },
     "output_type": "display_data"
    }
   ],
   "source": [
    "if __name__ == '__main__':\n",
    "    config = Config()\n",
    "\n",
    "    train_data, valid_data, test_data = load_data(config)\n",
    "\n",
    "\n",
    "    '''分离数据中的句子和标签'''\n",
    "    train_summary, train_description, train_priority, train_label = split_data(train_data)\n",
    "    valid_summary, valid_description, valid_priority, valid_label = split_data(valid_data)\n",
    "    test_summary, test_description, test_priority, test_label = split_data(test_data)\n",
    "\n",
    "    model = build_model(config)\n",
    "    \n",
    "    history = train(config)\n",
    "    \n",
    "    evaluate(config)\n",
    "    \n",
    "    draw(history)\n",
    "\n",
    "\n"
   ]
  },
  {
   "cell_type": "code",
   "execution_count": null,
   "metadata": {},
   "outputs": [],
   "source": []
  }
 ],
 "metadata": {
  "kernelspec": {
   "display_name": "Python 3",
   "language": "python",
   "name": "python3"
  },
  "language_info": {
   "codemirror_mode": {
    "name": "ipython",
    "version": 3
   },
   "file_extension": ".py",
   "mimetype": "text/x-python",
   "name": "python",
   "nbconvert_exporter": "python",
   "pygments_lexer": "ipython3",
   "version": "3.7.3"
  }
 },
 "nbformat": 4,
 "nbformat_minor": 2
}
